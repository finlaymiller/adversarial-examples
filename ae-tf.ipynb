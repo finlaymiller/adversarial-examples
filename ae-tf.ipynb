{
 "cells": [
  {
   "cell_type": "code",
   "execution_count": null,
   "metadata": {},
   "outputs": [],
   "source": [
    "import tensorflow as tf\n",
    "import numpy as np\n",
    "import matplotlib.pyplot as plt\n",
    "import os"
   ]
  },
  {
   "cell_type": "code",
   "execution_count": null,
   "metadata": {},
   "outputs": [],
   "source": [
    "MODEL_UPDATE = False\n",
    "MODEL_EXISTS = os.path.isfile('models/discriminator.h5')"
   ]
  },
  {
   "cell_type": "code",
   "execution_count": null,
   "metadata": {},
   "outputs": [],
   "source": [
    "def preprocess(image):\n",
    "\t\"\"\"re-cast to float32 & [0, 1]\"\"\"\n",
    "\treturn tf.cast(image, tf.float32) / 255.0"
   ]
  },
  {
   "cell_type": "code",
   "execution_count": null,
   "metadata": {},
   "outputs": [],
   "source": [
    "(X_train, y_train), (X_test, y_test) = tf.keras.datasets.mnist.load_data()\n",
    "\n",
    "if (MODEL_EXISTS):\n",
    "\tmodel = tf.keras.models.load_model('models/discriminator.h5')\n",
    "else:\n",
    "\tmodel = tf.keras.models.Sequential([\n",
    "\ttf.keras.layers.Flatten(input_shape=(28, 28)),\n",
    "\ttf.keras.layers.Dense(128, activation='relu'),\n",
    "  \ttf.keras.layers.Dropout(0.2),\n",
    "\ttf.keras.layers.Dense(10),\n",
    "\t])\n",
    "\tmodel.compile(\n",
    "\t\toptimizer=tf.keras.optimizers.Adam(0.001),\n",
    "\t\tloss=tf.keras.losses.SparseCategoricalCrossentropy(from_logits=True),\n",
    "\t\tmetrics=[tf.keras.metrics.SparseCategoricalAccuracy()],\n",
    "\t)\n",
    "\n",
    "model.fit(preprocess(X_train), y_train, epochs=5, shuffle=True)\n",
    "model.evaluate(preprocess(X_test),  y_test, verbose=2)\n",
    "\n",
    "if (MODEL_UPDATE):\n",
    "\tmodel.save('models/discriminator.h5')\n",
    "\tMODEL_EXISTS = True"
   ]
  },
  {
   "cell_type": "code",
   "execution_count": null,
   "metadata": {},
   "outputs": [],
   "source": [
    "def show_prediction(image, prediction=np.array([]), title=''):\n",
    "\t# MNIST classes are [0, ..., 9]\n",
    "\tcols = np.arange(prediction.shape[0])\n",
    "\t# draw image\n",
    "\tplt.subplot(1, 2, 1)\n",
    "\tplt.imshow(image)\n",
    "\tplt.xticks([])\n",
    "\tplt.yticks([])\n",
    "\t# draw prediction bar graph\n",
    "\tplt.subplot(1, 2, 2)\n",
    "\tplt.bar(cols, prediction)\n",
    "\tplt.xticks(cols)\n",
    "\tplt.ylim(0.0, 1.0)\n",
    "\tplt.suptitle(title)\n",
    "\tplt.show()"
   ]
  },
  {
   "cell_type": "code",
   "execution_count": null,
   "metadata": {},
   "outputs": [],
   "source": [
    "def step_fgsm(x, epsilon, loss_fn):\n",
    "  # calculate gradient\n",
    "  with tf.GradientTape() as tape:\n",
    "    tape.watch(x)\n",
    "    prediction = softmax_model(image)\n",
    "    one_hot_label = tf.one_hot(tf.argmax(prediction, 1), 10)\n",
    "    loss = loss_fn(one_hot_label, prediction)\n",
    "\n",
    "  gradient = tape.gradient(loss, x)\n",
    "  x_adv = epsilon * tf.sign(gradient[0])\n",
    "  \n",
    "  return tf.stop_gradient(x_adv)"
   ]
  },
  {
   "cell_type": "code",
   "execution_count": null,
   "metadata": {},
   "outputs": [],
   "source": [
    "epsilon = 0.01\n",
    "image = preprocess(X_test[50])[np.newaxis,]\n",
    "loss_fn = tf.keras.losses.CategoricalCrossentropy()\n",
    "\n",
    "softmax_model = tf.keras.models.Sequential([\n",
    "\tmodel,\n",
    "\ttf.keras.layers.Softmax()\n",
    "])\n",
    "perturbation = step_fgsm(image, epsilon, loss_fn) * 0.5 + 0.5"
   ]
  },
  {
   "cell_type": "code",
   "execution_count": null,
   "metadata": {},
   "outputs": [],
   "source": [
    "prediction = np.squeeze(softmax_model(image))\n",
    "title = 'Prediction of original image'\n",
    "show_prediction(np.squeeze(image), prediction, title)\n",
    "\n",
    "plt.imshow(perturbation)\n",
    "plt.xticks([])\n",
    "plt.yticks([])\n",
    "plt.show()\n",
    "\n",
    "new_image = (image + perturbation) / 2.0\n",
    "new_prediction = np.squeeze(softmax_model(perturbation[np.newaxis,]).numpy())\n",
    "title = 'Prediction of modified image'\n",
    "show_prediction(np.squeeze(new_image), new_prediction, title)"
   ]
  }
 ],
 "metadata": {
  "interpreter": {
   "hash": "264615cac22193cec9634a8c9a8caa94f4a35e9ef1b202f9b83cc4193ecb02c3"
  },
  "kernelspec": {
   "display_name": "Python 3.9.7 64-bit ('gan-mnist': conda)",
   "language": "python",
   "name": "python3"
  },
  "language_info": {
   "codemirror_mode": {
    "name": "ipython",
    "version": 3
   },
   "file_extension": ".py",
   "mimetype": "text/x-python",
   "name": "python",
   "nbconvert_exporter": "python",
   "pygments_lexer": "ipython3",
   "version": "3.9.7"
  },
  "orig_nbformat": 4
 },
 "nbformat": 4,
 "nbformat_minor": 2
}
